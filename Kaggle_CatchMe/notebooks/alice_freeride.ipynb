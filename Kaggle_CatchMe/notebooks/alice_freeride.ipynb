{
 "cells": [
  {
   "cell_type": "code",
   "execution_count": 166,
   "metadata": {},
   "outputs": [],
   "source": [
    "import pandas as pd\n",
    "import pickle\n",
    "import seaborn as sns\n",
    "import numpy as np\n",
    "import matplotlib.pyplot as plt\n",
    "from scipy.sparse import hstack\n",
    "from sklearn.model_selection import cross_val_score, TimeSeriesSplit, GridSearchCV\n",
    "from sklearn.metrics import roc_auc_score\n",
    "from sklearn.linear_model import LogisticRegression\n",
    "from sklearn.feature_extraction.text import CountVectorizer\n",
    "from sklearn.preprocessing import StandardScaler\n",
    "\n",
    "import warnings\n",
    "warnings.filterwarnings(\"ignore\")"
   ]
  },
  {
   "cell_type": "code",
   "execution_count": 171,
   "metadata": {},
   "outputs": [],
   "source": [
    "with open(r\"/home/ginko/mlcourse/site_dic.pkl\", \"rb\") as input_file:\n",
    "    site_dict = pickle.load(input_file)\n",
    "\n",
    "# Create dataframe for the dictionary\n",
    "sites_dict = pd.DataFrame(list(site_dict.keys()), index=list(site_dict.values()), \n",
    "                          columns=['site'])"
   ]
  },
  {
   "cell_type": "code",
   "execution_count": 2,
   "metadata": {},
   "outputs": [],
   "source": [
    "def write_to_submission_file(predicted_labels, out_file,\n",
    "                            target='target', index_label=\"session_id\"):\n",
    "    predicted_df = pd.DataFrame(predicted_labels,\n",
    "                               index=np.arange(1, predicted_labels.shape[0] + 1),\n",
    "                               columns=[target])\n",
    "    predicted_df.to_csv(out_file, index_label=index_label)"
   ]
  },
  {
   "cell_type": "code",
   "execution_count": 3,
   "metadata": {},
   "outputs": [
    {
     "data": {
      "text/html": [
       "<div>\n",
       "<style scoped>\n",
       "    .dataframe tbody tr th:only-of-type {\n",
       "        vertical-align: middle;\n",
       "    }\n",
       "\n",
       "    .dataframe tbody tr th {\n",
       "        vertical-align: top;\n",
       "    }\n",
       "\n",
       "    .dataframe thead th {\n",
       "        text-align: right;\n",
       "    }\n",
       "</style>\n",
       "<table border=\"1\" class=\"dataframe\">\n",
       "  <thead>\n",
       "    <tr style=\"text-align: right;\">\n",
       "      <th></th>\n",
       "      <th>site1</th>\n",
       "      <th>time1</th>\n",
       "      <th>site2</th>\n",
       "      <th>time2</th>\n",
       "      <th>site3</th>\n",
       "      <th>time3</th>\n",
       "      <th>site4</th>\n",
       "      <th>time4</th>\n",
       "      <th>site5</th>\n",
       "      <th>time5</th>\n",
       "      <th>...</th>\n",
       "      <th>time6</th>\n",
       "      <th>site7</th>\n",
       "      <th>time7</th>\n",
       "      <th>site8</th>\n",
       "      <th>time8</th>\n",
       "      <th>site9</th>\n",
       "      <th>time9</th>\n",
       "      <th>site10</th>\n",
       "      <th>time10</th>\n",
       "      <th>target</th>\n",
       "    </tr>\n",
       "    <tr>\n",
       "      <th>session_id</th>\n",
       "      <th></th>\n",
       "      <th></th>\n",
       "      <th></th>\n",
       "      <th></th>\n",
       "      <th></th>\n",
       "      <th></th>\n",
       "      <th></th>\n",
       "      <th></th>\n",
       "      <th></th>\n",
       "      <th></th>\n",
       "      <th></th>\n",
       "      <th></th>\n",
       "      <th></th>\n",
       "      <th></th>\n",
       "      <th></th>\n",
       "      <th></th>\n",
       "      <th></th>\n",
       "      <th></th>\n",
       "      <th></th>\n",
       "      <th></th>\n",
       "      <th></th>\n",
       "    </tr>\n",
       "  </thead>\n",
       "  <tbody>\n",
       "    <tr>\n",
       "      <th>21669</th>\n",
       "      <td>56</td>\n",
       "      <td>2013-01-12 08:05:57</td>\n",
       "      <td>55.0</td>\n",
       "      <td>2013-01-12 08:05:57</td>\n",
       "      <td>NaN</td>\n",
       "      <td>NaT</td>\n",
       "      <td>NaN</td>\n",
       "      <td>NaT</td>\n",
       "      <td>NaN</td>\n",
       "      <td>NaT</td>\n",
       "      <td>...</td>\n",
       "      <td>NaT</td>\n",
       "      <td>NaN</td>\n",
       "      <td>NaT</td>\n",
       "      <td>NaN</td>\n",
       "      <td>NaT</td>\n",
       "      <td>NaN</td>\n",
       "      <td>NaT</td>\n",
       "      <td>NaN</td>\n",
       "      <td>NaT</td>\n",
       "      <td>0</td>\n",
       "    </tr>\n",
       "    <tr>\n",
       "      <th>54843</th>\n",
       "      <td>56</td>\n",
       "      <td>2013-01-12 08:37:23</td>\n",
       "      <td>55.0</td>\n",
       "      <td>2013-01-12 08:37:23</td>\n",
       "      <td>56.0</td>\n",
       "      <td>2013-01-12 09:07:07</td>\n",
       "      <td>55.0</td>\n",
       "      <td>2013-01-12 09:07:09</td>\n",
       "      <td>NaN</td>\n",
       "      <td>NaT</td>\n",
       "      <td>...</td>\n",
       "      <td>NaT</td>\n",
       "      <td>NaN</td>\n",
       "      <td>NaT</td>\n",
       "      <td>NaN</td>\n",
       "      <td>NaT</td>\n",
       "      <td>NaN</td>\n",
       "      <td>NaT</td>\n",
       "      <td>NaN</td>\n",
       "      <td>NaT</td>\n",
       "      <td>0</td>\n",
       "    </tr>\n",
       "  </tbody>\n",
       "</table>\n",
       "<p>2 rows × 21 columns</p>\n",
       "</div>"
      ],
      "text/plain": [
       "            site1               time1  site2               time2  site3  \\\n",
       "session_id                                                                \n",
       "21669          56 2013-01-12 08:05:57   55.0 2013-01-12 08:05:57    NaN   \n",
       "54843          56 2013-01-12 08:37:23   55.0 2013-01-12 08:37:23   56.0   \n",
       "\n",
       "                         time3  site4               time4  site5 time5  ...  \\\n",
       "session_id                                                              ...   \n",
       "21669                      NaT    NaN                 NaT    NaN   NaT  ...   \n",
       "54843      2013-01-12 09:07:07   55.0 2013-01-12 09:07:09    NaN   NaT  ...   \n",
       "\n",
       "            time6 site7  time7 site8  time8 site9  time9 site10  time10 target  \n",
       "session_id                                                                      \n",
       "21669         NaT   NaN    NaT   NaN    NaT   NaN    NaT    NaN     NaT      0  \n",
       "54843         NaT   NaN    NaT   NaN    NaT   NaN    NaT    NaN     NaT      0  \n",
       "\n",
       "[2 rows x 21 columns]"
      ]
     },
     "execution_count": 3,
     "metadata": {},
     "output_type": "execute_result"
    }
   ],
   "source": [
    "times = ['time%s' % i for i in range(1,11)]\n",
    "data_dir = \"/home/ginko/mlcourse/data_alice/\"\n",
    "train_df = pd.read_csv(data_dir + \"train_sessions.csv\", parse_dates=times, index_col = \"session_id\" )\n",
    "test_df = pd.read_csv(data_dir + \"test_sessions.csv\", parse_dates=times, index_col = \"session_id\")\n",
    "\n",
    "train_df = train_df.sort_values(by='time1')"
   ]
  },
  {
   "cell_type": "code",
   "execution_count": 4,
   "metadata": {},
   "outputs": [],
   "source": [
    "sites = ['site%s' % i for i in range(1, 11)]\n",
    "#train_df[sites].fillna(0).astype('int').to_csv('train_sessions_text.txt', \n",
    "#                                              sep = ' ',\n",
    "#                                              index=None,\n",
    "#                                              header=None)\n",
    "#\n",
    "#test_df[sites].fillna(0).astype('int').to_csv('test_sessions_text.txt', \n",
    "#                                              sep = ' ',\n",
    "#                                              index=None,\n",
    "#                                              header=None)"
   ]
  },
  {
   "cell_type": "code",
   "execution_count": 6,
   "metadata": {},
   "outputs": [
    {
     "name": "stdout",
     "output_type": "stream",
     "text": [
      "(253561, 50000) (82797, 50000)\n",
      "CPU times: user 30.4 s, sys: 658 ms, total: 31.1 s\n",
      "Wall time: 31.3 s\n"
     ]
    }
   ],
   "source": [
    "%%time \n",
    "cv = CountVectorizer(ngram_range=(1, 3), max_features=50000)\n",
    "with open('train_sessions_text.txt') as inp_train_file:\n",
    "    X_train = cv.fit_transform(inp_train_file)\n",
    "    \n",
    "with open('test_sessions_text.txt') as inp_test_file:\n",
    "    X_test = cv.transform(inp_test_file)\n",
    "\n",
    "y_train = train_df['target'].astype('int').values\n",
    "print(X_train.shape, X_test.shape)"
   ]
  },
  {
   "cell_type": "code",
   "execution_count": 7,
   "metadata": {},
   "outputs": [],
   "source": [
    "time_split = TimeSeriesSplit(n_splits=10)\n",
    "logit = LogisticRegression(random_state=17, C=1, solver='liblinear')\n",
    "\n",
    "def cv_scores(x, y, crossval=time_split, c=1):\n",
    "    logreg = LogisticRegression(random_state=17, C=c, solver='liblinear')\n",
    "    return cross_val_score(logreg, x, y, cv=crossval, scoring='roc_auc', n_jobs=3) \n"
   ]
  },
  {
   "cell_type": "code",
   "execution_count": 12,
   "metadata": {},
   "outputs": [],
   "source": [
    "c_values = np.logspace(-2, 2, 10)\n",
    "logit_grid_searcher = GridSearchCV(estimator=logit, param_grid={'C': c_values},\n",
    "                                  scoring='roc_auc', n_jobs=4, \n",
    "                                  cv=time_split, verbose=1)"
   ]
  },
  {
   "cell_type": "code",
   "execution_count": 13,
   "metadata": {},
   "outputs": [],
   "source": [
    "#%%time\n",
    "#logit_grid_searcher.fit(X_train_new, y_train)"
   ]
  },
  {
   "cell_type": "code",
   "execution_count": 14,
   "metadata": {},
   "outputs": [],
   "source": [
    "#logit_grid_searcher.best_score_, logit_grid_searcher.best_params_"
   ]
  },
  {
   "cell_type": "code",
   "execution_count": 15,
   "metadata": {},
   "outputs": [],
   "source": [
    "#logit = LogisticRegression(C=0.21544, random_state=17, solver='liblinear')\n",
    "#logit.fit(X_train_new, y_train)"
   ]
  },
  {
   "cell_type": "code",
   "execution_count": 16,
   "metadata": {},
   "outputs": [],
   "source": [
    "#prediction1 = logit.predict_proba(X_test_new)[:,1]\n",
    "#write_to_submission_file(prediction1, 'submission3.csv')"
   ]
  },
  {
   "cell_type": "markdown",
   "metadata": {},
   "source": [
    "# Freeride"
   ]
  },
  {
   "cell_type": "markdown",
   "metadata": {},
   "source": [
    "## EDA on time dataset\n",
    "**Hypothesis:**\n",
    "1. Alice is surfing the web with some particoular pattern during the day, week, month and year.\n",
    "2. Alice is looking for some particoular website during particoular days, weeks, months and years."
   ]
  },
  {
   "cell_type": "code",
   "execution_count": 26,
   "metadata": {},
   "outputs": [],
   "source": [
    "td = pd.DataFrame(index = train_df.index)\n",
    "hour = train_df['time1'].apply(lambda ts: ts.hour)\n",
    "morning = ((hour >= 7) & (hour <= 11))\n",
    "day = ((hour >= 12) & (hour <= 18))\n",
    "evening = ((hour >= 19) & (hour <= 23))\n",
    "night = ((hour >= 0) & (hour <= 6))\n",
    "time_df = pd.DataFrame(index = train_df.index)\n",
    "time_df['max'] = train_df[times].max(axis=1)\n",
    "time_df['min'] = train_df[times].min(axis=1)\n",
    "duration = (time_df['max'] - time_df['min']).dt.seconds\n",
    "dayofweek = train_df['time1'].apply(lambda x: x.dayofweek)\n",
    "dayofmonth = train_df['time1'].apply(lambda x: x.day)\n",
    "month = train_df['time1'].apply(lambda x: x.month)\n",
    "year = train_df['time1'].apply(lambda x: x.year)"
   ]
  },
  {
   "cell_type": "code",
   "execution_count": 138,
   "metadata": {},
   "outputs": [],
   "source": [
    "td_test = pd.DataFrame(index = test_df.index)\n",
    "hour = test_df['time1'].apply(lambda ts: ts.hour)\n",
    "morning = ((hour >= 7) & (hour <= 11))\n",
    "day = ((hour >= 12) & (hour <= 18))\n",
    "evening = ((hour >= 19) & (hour <= 23))\n",
    "night = ((hour >= 0) & (hour <= 6))\n",
    "time_df = pd.DataFrame(index = test_df.index)\n",
    "time_df['max'] = test_df[times].max(axis=1)\n",
    "time_df['min'] = test_df[times].min(axis=1)\n",
    "duration = (time_df['max'] - time_df['min']).dt.seconds\n",
    "dayofweek = test_df['time1'].apply(lambda x: x.dayofweek)\n",
    "dayofmonth = test_df['time1'].apply(lambda x: x.day)\n",
    "month = test_df['time1'].apply(lambda x: x.month)\n",
    "year = test_df['time1'].apply(lambda x: x.year)\n",
    "\n",
    "time_feat = [hour, morning, day, evening, night, duration, dayofweek, dayofmonth, month, year, train_df['target']]\n",
    "time_name = ['hour', 'morning', 'day', 'evening', 'night', 'duration', 'dayofweek', 'dayofmonth', 'month', 'year', 'target']\n",
    "for n, i  in enumerate(time_feat):\n",
    "    td_test[time_name[n]] = i\n",
    "td_test.head()"
   ]
  },
  {
   "cell_type": "code",
   "execution_count": 27,
   "metadata": {},
   "outputs": [
    {
     "data": {
      "text/html": [
       "<div>\n",
       "<style scoped>\n",
       "    .dataframe tbody tr th:only-of-type {\n",
       "        vertical-align: middle;\n",
       "    }\n",
       "\n",
       "    .dataframe tbody tr th {\n",
       "        vertical-align: top;\n",
       "    }\n",
       "\n",
       "    .dataframe thead th {\n",
       "        text-align: right;\n",
       "    }\n",
       "</style>\n",
       "<table border=\"1\" class=\"dataframe\">\n",
       "  <thead>\n",
       "    <tr style=\"text-align: right;\">\n",
       "      <th></th>\n",
       "      <th>hour</th>\n",
       "      <th>morning</th>\n",
       "      <th>day</th>\n",
       "      <th>evening</th>\n",
       "      <th>night</th>\n",
       "      <th>duration</th>\n",
       "      <th>dayofweek</th>\n",
       "      <th>dayofmonth</th>\n",
       "      <th>month</th>\n",
       "      <th>year</th>\n",
       "      <th>target</th>\n",
       "    </tr>\n",
       "    <tr>\n",
       "      <th>session_id</th>\n",
       "      <th></th>\n",
       "      <th></th>\n",
       "      <th></th>\n",
       "      <th></th>\n",
       "      <th></th>\n",
       "      <th></th>\n",
       "      <th></th>\n",
       "      <th></th>\n",
       "      <th></th>\n",
       "      <th></th>\n",
       "      <th></th>\n",
       "    </tr>\n",
       "  </thead>\n",
       "  <tbody>\n",
       "    <tr>\n",
       "      <th>21669</th>\n",
       "      <td>8</td>\n",
       "      <td>True</td>\n",
       "      <td>False</td>\n",
       "      <td>False</td>\n",
       "      <td>False</td>\n",
       "      <td>0</td>\n",
       "      <td>5</td>\n",
       "      <td>12</td>\n",
       "      <td>1</td>\n",
       "      <td>2013</td>\n",
       "      <td>0</td>\n",
       "    </tr>\n",
       "    <tr>\n",
       "      <th>54843</th>\n",
       "      <td>8</td>\n",
       "      <td>True</td>\n",
       "      <td>False</td>\n",
       "      <td>False</td>\n",
       "      <td>False</td>\n",
       "      <td>1786</td>\n",
       "      <td>5</td>\n",
       "      <td>12</td>\n",
       "      <td>1</td>\n",
       "      <td>2013</td>\n",
       "      <td>0</td>\n",
       "    </tr>\n",
       "    <tr>\n",
       "      <th>77292</th>\n",
       "      <td>8</td>\n",
       "      <td>True</td>\n",
       "      <td>False</td>\n",
       "      <td>False</td>\n",
       "      <td>False</td>\n",
       "      <td>4</td>\n",
       "      <td>5</td>\n",
       "      <td>12</td>\n",
       "      <td>1</td>\n",
       "      <td>2013</td>\n",
       "      <td>0</td>\n",
       "    </tr>\n",
       "    <tr>\n",
       "      <th>114021</th>\n",
       "      <td>8</td>\n",
       "      <td>True</td>\n",
       "      <td>False</td>\n",
       "      <td>False</td>\n",
       "      <td>False</td>\n",
       "      <td>3</td>\n",
       "      <td>5</td>\n",
       "      <td>12</td>\n",
       "      <td>1</td>\n",
       "      <td>2013</td>\n",
       "      <td>0</td>\n",
       "    </tr>\n",
       "    <tr>\n",
       "      <th>146670</th>\n",
       "      <td>8</td>\n",
       "      <td>True</td>\n",
       "      <td>False</td>\n",
       "      <td>False</td>\n",
       "      <td>False</td>\n",
       "      <td>2</td>\n",
       "      <td>5</td>\n",
       "      <td>12</td>\n",
       "      <td>1</td>\n",
       "      <td>2013</td>\n",
       "      <td>0</td>\n",
       "    </tr>\n",
       "  </tbody>\n",
       "</table>\n",
       "</div>"
      ],
      "text/plain": [
       "            hour  morning    day  evening  night  duration  dayofweek  \\\n",
       "session_id                                                              \n",
       "21669          8     True  False    False  False         0          5   \n",
       "54843          8     True  False    False  False      1786          5   \n",
       "77292          8     True  False    False  False         4          5   \n",
       "114021         8     True  False    False  False         3          5   \n",
       "146670         8     True  False    False  False         2          5   \n",
       "\n",
       "            dayofmonth  month  year  target  \n",
       "session_id                                   \n",
       "21669               12      1  2013       0  \n",
       "54843               12      1  2013       0  \n",
       "77292               12      1  2013       0  \n",
       "114021              12      1  2013       0  \n",
       "146670              12      1  2013       0  "
      ]
     },
     "execution_count": 27,
     "metadata": {},
     "output_type": "execute_result"
    }
   ],
   "source": [
    "time_feat = [hour, morning, day, evening, night, duration, dayofweek, dayofmonth, month, year, train_df['target']]\n",
    "time_name = ['hour', 'morning', 'day', 'evening', 'night', 'duration', 'dayofweek', 'dayofmonth', 'month', 'year', 'target']\n",
    "for n, i  in enumerate(time_feat):\n",
    "    td[time_name[n]] = i\n",
    "td.head()"
   ]
  },
  {
   "cell_type": "markdown",
   "metadata": {},
   "source": [
    "### First Hypotesis' Plots\n",
    "1. Hour for target vs non target\n",
    "2. Same for duration, dayofweek, dayofmonth, month, year"
   ]
  },
  {
   "cell_type": "code",
   "execution_count": 87,
   "metadata": {},
   "outputs": [
    {
     "data": {
      "text/plain": [
       "target  year\n",
       "0       2014    177645\n",
       "        2013     73619\n",
       "1       2014      1241\n",
       "        2013      1056\n",
       "Name: year, dtype: int64"
      ]
     },
     "execution_count": 87,
     "metadata": {},
     "output_type": "execute_result"
    }
   ],
   "source": [
    "td.groupby('target').year.value_counts()"
   ]
  },
  {
   "cell_type": "code",
   "execution_count": 39,
   "metadata": {},
   "outputs": [
    {
     "data": {
      "text/plain": [
       "Text(0.5, 1.0, 'Hour distribution of others')"
      ]
     },
     "execution_count": 39,
     "metadata": {},
     "output_type": "execute_result"
    },
    {
     "data": {
      "image/png": "[encoded data removed]",
      "text/plain": [
       "<Figure size 1080x360 with 2 Axes>"
      ]
     },
     "metadata": {
      "needs_background": "light"
     },
     "output_type": "display_data"
    }
   ],
   "source": [
    "hour_tar = td.loc[td['target']==1, 'hour' ].value_counts(normalize=True)\n",
    "hour_oth = td.loc[td['target']==0, 'hour' ].value_counts(normalize=True)\n",
    "plot_hour = pd.DataFrame(index=range(0,24))\n",
    "plot_hour['tar'] = hour_tar\n",
    "plot_hour['oth'] = hour_oth\n",
    "\n",
    "fig, axis = plt.subplots(1,2,figsize=(15,5))\n",
    "\n",
    "sns.barplot(x='index', y='tar', data=plot_hour.tar.reset_index(), ax=axis[0])\n",
    "sns.barplot(x='index', y='oth', data=plot_hour.oth.reset_index(), ax=axis[1])\n",
    "\n",
    "axis[0].set_title('Hour distribution of target')\n",
    "axis[1].set_title('Hour distribution of others')"
   ]
  },
  {
   "cell_type": "code",
   "execution_count": 66,
   "metadata": {},
   "outputs": [
    {
     "data": {
      "text/plain": [
       "Text(0.5, 1.0, 'Duration distributions by target')"
      ]
     },
     "execution_count": 66,
     "metadata": {},
     "output_type": "execute_result"
    },
    {
     "data": {
      "image/png": "[encoded data removed]",
      "text/plain": [
       "<Figure size 1080x360 with 1 Axes>"
      ]
     },
     "metadata": {
      "needs_background": "light"
     },
     "output_type": "display_data"
    }
   ],
   "source": [
    "fig, axis = plt.subplots(figsize=(15,5))\n",
    "sns.violinplot(data=td, y='target',  x='duration', orient='h', ax=axis)\n",
    "axis.set_title(\"Duration distributions by target\")"
   ]
  },
  {
   "cell_type": "code",
   "execution_count": 72,
   "metadata": {},
   "outputs": [
    {
     "name": "stdout",
     "output_type": "stream",
     "text": [
      "Day 5 is Saturday.\n"
     ]
    },
    {
     "data": {
      "image/png": "[encoded data removed]",
      "text/plain": [
       "<Figure size 1080x360 with 2 Axes>"
      ]
     },
     "metadata": {
      "needs_background": "light"
     },
     "output_type": "display_data"
    }
   ],
   "source": [
    "fig, axis = plt.subplots(1,2,figsize=(15,5))\n",
    "sns.countplot(data=td.loc[td['target']==1], x='dayofweek', ax=axis[0])\n",
    "sns.countplot(data=td.loc[td['target']==0], x='dayofweek', ax=axis[1])\n",
    "\n",
    "axis[0].set_title('Distribution in day of week of target')\n",
    "axis[1].set_title('Distribution in day of week of others')\n",
    "\n",
    "print('Day 5 is Saturday.')"
   ]
  },
  {
   "cell_type": "code",
   "execution_count": 76,
   "metadata": {},
   "outputs": [
    {
     "data": {
      "text/plain": [
       "Text(0.5, 1.0, 'Distribution in day of month of others')"
      ]
     },
     "execution_count": 76,
     "metadata": {},
     "output_type": "execute_result"
    },
    {
     "data": {
      "image/png": "[encoded data removed]",
      "text/plain": [
       "<Figure size 1080x360 with 2 Axes>"
      ]
     },
     "metadata": {
      "needs_background": "light"
     },
     "output_type": "display_data"
    }
   ],
   "source": [
    "fig, axis = plt.subplots(1,2,figsize=(15,5))\n",
    "sns.countplot(data=td.loc[td['target']==1], x='dayofmonth', ax=axis[0])\n",
    "sns.countplot(data=td.loc[td['target']==0], x='dayofmonth', ax=axis[1])\n",
    "axis[0].set_title('Distribution in day of month of target')\n",
    "axis[1].set_title('Distribution in day of month of others')"
   ]
  },
  {
   "cell_type": "code",
   "execution_count": 106,
   "metadata": {},
   "outputs": [
    {
     "data": {
      "text/plain": [
       "Text(0.5, 1.0, 'Sessions frequency for year in others')"
      ]
     },
     "execution_count": 106,
     "metadata": {},
     "output_type": "execute_result"
    },
    {
     "data": {
      "image/png": "[encoded data removed]",
      "text/plain": [
       "<Figure size 864x360 with 2 Axes>"
      ]
     },
     "metadata": {
      "needs_background": "light"
     },
     "output_type": "display_data"
    }
   ],
   "source": [
    "fig, axis = plt.subplots(1,2,figsize=(12,5))\n",
    "sns.countplot(data=td.loc[td['target']==1], ax=axis[0], x='year', palette='cubehelix')\n",
    "sns.countplot(data=td.loc[td['target']==0], ax=axis[1], x='year', palette='cubehelix')\n",
    "\n",
    "axis[0].set_title('Sessions frequency for year in target')\n",
    "axis[1].set_title('Sessions frequency for year in others')"
   ]
  },
  {
   "cell_type": "markdown",
   "metadata": {},
   "source": [
    "### First Hypotesis' Conclusions\n",
    "1. There is difference in distributions between target and others in:\n",
    "    - hour\n",
    "    - dayofweek\n",
    "    - dayofmonth\n",
    "    - year\n",
    "2. There is no difference in:\n",
    "    - duration"
   ]
  },
  {
   "cell_type": "code",
   "execution_count": 140,
   "metadata": {},
   "outputs": [],
   "source": [
    "good_features = ['hour','dayofweek','dayofmonth','year', 'morning', 'day', 'night', 'evening']\n",
    "def add_td(df, sparse_matrix):\n",
    "    X = sparse_matrix\n",
    "    for i in good_features:\n",
    "        new_feat = StandardScaler().fit_transform(df[i].values.reshape(-1,1))\n",
    "        X = hstack([X, new_feat])\n",
    "    return X"
   ]
  },
  {
   "cell_type": "code",
   "execution_count": 133,
   "metadata": {},
   "outputs": [],
   "source": [
    "X_train_time = add_td(td, X_train)\n",
    "X_test_time = add_td(td_test, X_test)"
   ]
  },
  {
   "cell_type": "code",
   "execution_count": 134,
   "metadata": {},
   "outputs": [
    {
     "name": "stdout",
     "output_type": "stream",
     "text": [
      "[0.75031991 0.69560259 0.97266781 0.98251487 0.89934514 0.96640982\n",
      " 0.9538147  0.93794442 0.97754846 0.97644233]\n",
      "0.9112610053163974\n"
     ]
    }
   ],
   "source": [
    "score6 = cv_scores(X_train_time, y_train, c=0.21544)\n",
    "print(score6)\n",
    "print(score6.mean())"
   ]
  },
  {
   "cell_type": "code",
   "execution_count": 146,
   "metadata": {},
   "outputs": [
    {
     "data": {
      "text/plain": [
       "LogisticRegression(C=0.21544, class_weight=None, dual=False,\n",
       "          fit_intercept=True, intercept_scaling=1, max_iter=100,\n",
       "          multi_class='warn', n_jobs=None, penalty='l2', random_state=17,\n",
       "          solver='liblinear', tol=0.0001, verbose=0, warm_start=False)"
      ]
     },
     "execution_count": 146,
     "metadata": {},
     "output_type": "execute_result"
    }
   ],
   "source": [
    "logit = LogisticRegression(C=0.21544, random_state=17, solver='liblinear')\n",
    "logit.fit(X_train_time, y_train)"
   ]
  },
  {
   "cell_type": "code",
   "execution_count": 147,
   "metadata": {},
   "outputs": [],
   "source": [
    "prediction5 = logit.predict_proba(X_test_time)[:,1]\n",
    "write_to_submission_file(prediction5, 'submission5.csv')"
   ]
  },
  {
   "cell_type": "markdown",
   "metadata": {},
   "source": [
    "#### Let's try with different features! "
   ]
  },
  {
   "cell_type": "code",
   "execution_count": 155,
   "metadata": {},
   "outputs": [
    {
     "name": "stdout",
     "output_type": "stream",
     "text": [
      "hour: 0.906602072529758\n",
      "week: 0.8699845166788277\n",
      "month: 0.86230706946284\n",
      "year0.8734093496399253\n"
     ]
    }
   ],
   "source": [
    "score_base = cv_scores(X_train, y_train)\n",
    "\n",
    "good_features = ['hour', 'morning', 'day', 'evening', 'night']\n",
    "X_train_tmp = add_td(td, X_train)\n",
    "score_hour = cv_scores(X_train_tmp, y_train)\n",
    "\n",
    "good_features = ['dayofweek']\n",
    "X_train_tmp = add_td(td, X_train)\n",
    "score_dayofweek = cv_scores(X_train_tmp, y_train)\n",
    "\n",
    "good_features = ['dayofmonth']\n",
    "X_train_tmp = add_td(td, X_train)\n",
    "score_dayofmonth = cv_scores(X_train_tmp, y_train)\n",
    "\n",
    "good_features = ['year']\n",
    "X_train_tmp = add_td(td, X_train)\n",
    "score_year = cv_scores(X_train_tmp, y_train)\n",
    "\n",
    "good_features = ['duration']\n",
    "X_train_tmp = add_td(td, X_train)\n",
    "score_duration = cv_scores(X_train_tmp, y_train)\n",
    "\n",
    "print('hour: {}\\nweek: {}\\nmonth: {}\\nyear{}'.format(score_hour.mean(), score_dayofweek.mean(), score_dayofmonth.mean(), score_year.mean()))"
   ]
  },
  {
   "cell_type": "code",
   "execution_count": 158,
   "metadata": {},
   "outputs": [
    {
     "name": "stdout",
     "output_type": "stream",
     "text": [
      "base: 0.8677201841035801\n",
      "duration: 0.868377368386423\n",
      "hour: 0.906602072529758\n",
      "week: 0.8699845166788277\n",
      "month: 0.86230706946284\n",
      "year0.8734093496399253\n"
     ]
    }
   ],
   "source": [
    "print('base: {}\\nduration: {}\\nhour: {}\\nweek: {}\\nmonth: {}\\nyear{}'.format(score_base.mean(), score_duration.mean(), score_hour.mean(), score_dayofweek.mean(), score_dayofmonth.mean(), score_year.mean()))"
   ]
  },
  {
   "cell_type": "code",
   "execution_count": 160,
   "metadata": {},
   "outputs": [
    {
     "name": "stdout",
     "output_type": "stream",
     "text": [
      "0.9105367321984094\n"
     ]
    }
   ],
   "source": [
    "good_features = ['hour', 'morning', 'day', 'evening', 'night', 'dayofweek', 'year']\n",
    "X_train_tmp = add_td(td, X_train)\n",
    "score_final = cv_scores(X_train_tmp, y_train)\n",
    "print(score_final.mean())"
   ]
  },
  {
   "cell_type": "code",
   "execution_count": 161,
   "metadata": {},
   "outputs": [
    {
     "ename": "NameError",
     "evalue": "name 'score_final2' is not defined",
     "output_type": "error",
     "traceback": [
      "\u001b[0;31m---------------------------------------------------------------------------\u001b[0m",
      "\u001b[0;31mNameError\u001b[0m                                 Traceback (most recent call last)",
      "\u001b[0;32m<ipython-input-161-c465fcb1dbd5>\u001b[0m in \u001b[0;36m<module>\u001b[0;34m\u001b[0m\n\u001b[1;32m      2\u001b[0m \u001b[0mX_train_tmp\u001b[0m \u001b[0;34m=\u001b[0m \u001b[0madd_td\u001b[0m\u001b[0;34m(\u001b[0m\u001b[0mtd\u001b[0m\u001b[0;34m,\u001b[0m \u001b[0mX_train\u001b[0m\u001b[0;34m)\u001b[0m\u001b[0;34m\u001b[0m\u001b[0;34m\u001b[0m\u001b[0m\n\u001b[1;32m      3\u001b[0m \u001b[0mscore_final\u001b[0m \u001b[0;34m=\u001b[0m \u001b[0mcv_scores\u001b[0m\u001b[0;34m(\u001b[0m\u001b[0mX_train_tmp\u001b[0m\u001b[0;34m,\u001b[0m \u001b[0my_train\u001b[0m\u001b[0;34m)\u001b[0m\u001b[0;34m\u001b[0m\u001b[0;34m\u001b[0m\u001b[0m\n\u001b[0;32m----> 4\u001b[0;31m \u001b[0mprint\u001b[0m\u001b[0;34m(\u001b[0m\u001b[0mscore_final2\u001b[0m\u001b[0;34m.\u001b[0m\u001b[0mmean\u001b[0m\u001b[0;34m(\u001b[0m\u001b[0;34m)\u001b[0m\u001b[0;34m)\u001b[0m\u001b[0;34m\u001b[0m\u001b[0;34m\u001b[0m\u001b[0m\n\u001b[0m",
      "\u001b[0;31mNameError\u001b[0m: name 'score_final2' is not defined"
     ]
    }
   ],
   "source": [
    "good_features = ['duration', 'hour', 'morning', 'day', 'evening', 'night', 'dayofweek', 'year']\n",
    "X_train_tmp = add_td(td, X_train)\n",
    "score_final2 = cv_scores(X_train_tmp, y_train)\n",
    "print(score_final2.mean())\n",
    "print('it_improves')"
   ]
  },
  {
   "cell_type": "code",
   "execution_count": 163,
   "metadata": {},
   "outputs": [
    {
     "data": {
      "text/plain": [
       "0.9113137339983701"
      ]
     },
     "execution_count": 163,
     "metadata": {},
     "output_type": "execute_result"
    }
   ],
   "source": [
    "score_final.mean()"
   ]
  },
  {
   "cell_type": "code",
   "execution_count": 164,
   "metadata": {},
   "outputs": [
    {
     "name": "stdout",
     "output_type": "stream",
     "text": [
      "0.9092283375228145\n"
     ]
    }
   ],
   "source": [
    "good_features = ['duration', 'dayofmonth', 'hour', 'morning', 'day', 'evening', 'night', 'dayofweek', 'year']\n",
    "X_train_tmp = add_td(td, X_train)\n",
    "score_final3 = cv_scores(X_train_tmp, y_train)\n",
    "print(score_final3.mean())\n",
    "print('it_decreases')"
   ]
  },
  {
   "cell_type": "markdown",
   "metadata": {},
   "source": [
    "## Here we got our final time features!"
   ]
  },
  {
   "cell_type": "code",
   "execution_count": 169,
   "metadata": {},
   "outputs": [
    {
     "name": "stdout",
     "output_type": "stream",
     "text": [
      "(253561, 50008)\n",
      "(82797, 50008)\n"
     ]
    }
   ],
   "source": [
    "good_features = ['duration', 'hour', 'morning', 'day', 'evening', 'night', 'dayofweek', 'year']\n",
    "X_train_time = add_td(td, X_train)\n",
    "X_test_time = add_td(td_test, X_test)\n",
    "print(X_train_time.shape)\n",
    "print(X_test_timej.shape)"
   ]
  },
  {
   "cell_type": "markdown",
   "metadata": {},
   "source": [
    "### Now let's go with hyperparameters!"
   ]
  },
  {
   "cell_type": "code",
   "execution_count": 173,
   "metadata": {},
   "outputs": [
    {
     "name": "stdout",
     "output_type": "stream",
     "text": [
      "Fitting 10 folds for each of 10 candidates, totalling 100 fits\n"
     ]
    },
    {
     "name": "stderr",
     "output_type": "stream",
     "text": [
      "[Parallel(n_jobs=4)]: Using backend LokyBackend with 4 concurrent workers.\n",
      "[Parallel(n_jobs=4)]: Done  42 tasks      | elapsed:  2.5min\n",
      "[Parallel(n_jobs=4)]: Done 100 out of 100 | elapsed: 24.3min finished\n"
     ]
    },
    {
     "data": {
      "text/plain": [
       "GridSearchCV(cv=TimeSeriesSplit(max_train_size=None, n_splits=10),\n",
       "       error_score='raise-deprecating',\n",
       "       estimator=LogisticRegression(C=1, class_weight=None, dual=False, fit_intercept=True,\n",
       "          intercept_scaling=1, max_iter=100, multi_class='warn',\n",
       "          n_jobs=None, penalty='l2', random_state=17, solver='liblinear',\n",
       "          tol=0.0001, verbose=0, warm_start=False),\n",
       "       fit_params=None, iid='warn', n_jobs=4,\n",
       "       param_grid={'C': array([1.00000e-02, 2.78256e-02, 7.74264e-02, 2.15443e-01, 5.99484e-01,\n",
       "       1.66810e+00, 4.64159e+00, 1.29155e+01, 3.59381e+01, 1.00000e+02])},\n",
       "       pre_dispatch='2*n_jobs', refit=True, return_train_score='warn',\n",
       "       scoring='roc_auc', verbose=1)"
      ]
     },
     "execution_count": 173,
     "metadata": {},
     "output_type": "execute_result"
    }
   ],
   "source": [
    "logit_grid_searcher.fit(X_train_time, y_train)"
   ]
  },
  {
   "cell_type": "code",
   "execution_count": null,
   "metadata": {},
   "outputs": [],
   "source": []
  }
 ],
 "metadata": {
  "kernelspec": {
   "display_name": "Python 3",
   "language": "python",
   "name": "python3"
  },
  "language_info": {
   "codemirror_mode": {
    "name": "ipython",
    "version": 3
   },
   "file_extension": ".py",
   "mimetype": "text/x-python",
   "name": "python",
   "nbconvert_exporter": "python",
   "pygments_lexer": "ipython3",
   "version": "3.7.2"
  }
 },
 "nbformat": 4,
 "nbformat_minor": 2
}
