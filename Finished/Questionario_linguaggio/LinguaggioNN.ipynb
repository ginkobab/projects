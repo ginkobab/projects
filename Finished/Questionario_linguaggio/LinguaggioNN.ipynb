{
  "nbformat": 4,
  "nbformat_minor": 0,
  "metadata": {
    "kernelspec": {
      "name": "python3",
      "display_name": "Python 3"
    },
    "language_info": {
      "codemirror_mode": {
        "name": "ipython",
        "version": 3
      },
      "file_extension": ".py",
      "mimetype": "text/x-python",
      "name": "python",
      "nbconvert_exporter": "python",
      "pygments_lexer": "ipython3",
      "version": "3.7.4"
    },
    "colab": {
      "name": "Linguaggio.ipynb",
      "provenance": []
    },
    "accelerator": "GPU"
  },
  "cells": [
    {
      "cell_type": "code",
      "metadata": {
        "id": "YfPIXZKhI0Jl",
        "colab_type": "code",
        "colab": {}
      },
      "source": [
        "import pandas as pd\n",
        "import numpy as np\n",
        "\n",
        "from sklearn.model_selection import train_test_split\n",
        "from sklearn.model_selection import StratifiedKFold\n",
        "\n",
        "from sklearn.metrics import accuracy_score\n",
        "from sklearn.metrics import confusion_matrix\n",
        "from sklearn.metrics import r2_score\n",
        "\n",
        "from sklearn.linear_model import LogisticRegression\n",
        "from sklearn.neighbors import RadiusNeighborsClassifier\n",
        "\n",
        "import scipy.stats as stats\n",
        "\n",
        "import matplotlib.pyplot as plt\n",
        "import seaborn as sns\n",
        "\n",
        "from tensorflow.keras import layers\n",
        "from tensorflow.keras import Model\n",
        "from tensorflow.keras import regularizers\n",
        "from tensorflow.keras.optimizers import RMSprop\n",
        "\n",
        "import os   \n",
        "os.environ['TF_CPP_MIN_LOG_LEVEL'] = '3'\n",
        "\n",
        "pd.options.display.max_columns = 60"
      ],
      "execution_count": 0,
      "outputs": []
    },
    {
      "cell_type": "markdown",
      "metadata": {
        "id": "y1tHc6XQI0Jt",
        "colab_type": "text"
      },
      "source": [
        "## Data"
      ]
    },
    {
      "cell_type": "code",
      "metadata": {
        "id": "MybE6uUhI0Jv",
        "colab_type": "code",
        "colab": {}
      },
      "source": [
        "def load_data():\n",
        "    data = pd.read_csv('survey.csv')\n",
        "    data.drop(columns='Informazioni cronologiche', inplace=True)\n",
        "\n",
        "    oldcols = data.columns\n",
        "\n",
        "    data.dropna(inplace=True)\n",
        "    df = pd.DataFrame()\n",
        "    for n,i in enumerate(data.columns):\n",
        "        df['ans_' + str(n)] = pd.Categorical(data[i]).codes\n",
        "\n",
        "    df['ans_0'] = df['ans_0'].apply(lambda x: None if x==2 else x)\n",
        "    df.dropna(inplace=True)\n",
        "\n",
        "    cols = ['ans_' + str(i) for i in range(2,9)]\n",
        "    for i in cols:\n",
        "        df[i] = df[i] + 1\n",
        "    eng = df.loc[df['ans_0']==0].sample(len(df.loc[df['ans_0']==1]))\n",
        "    ita = df.loc[df['ans_0']==1]\n",
        "    balanced_df_ = pd.concat([ita,eng])\n",
        "    return balanced_df_\n"
      ],
      "execution_count": 0,
      "outputs": []
    },
    {
      "cell_type": "code",
      "metadata": {
        "id": "igl8_8TPI0J0",
        "colab_type": "code",
        "colab": {}
      },
      "source": [
        "def dummy(dataframe):\n",
        "    cols = list(dataframe.columns)\n",
        "    cols.remove('ans_0')\n",
        "    cols.remove('ans_1')\n",
        "    tmp = pd.DataFrame(dataframe['ans_0'])\n",
        "            \n",
        "    for i in cols:\n",
        "        tmp = tmp.join(pd.get_dummies(dataframe[i], prefix=i))\n",
        "    \n",
        "    return tmp"
      ],
      "execution_count": 0,
      "outputs": []
    },
    {
      "cell_type": "code",
      "metadata": {
        "id": "wRQ8YwvBI0KT",
        "colab_type": "code",
        "colab": {}
      },
      "source": [
        "def split_df(dataframe):\n",
        "    if 'ans_0' in dataframe.columns:\n",
        "        x = dataframe.drop(columns=['ans_0'])\n",
        "        y = dataframe['ans_0']\n",
        "    else:\n",
        "        raise 'Mehnhhm'\n",
        "    if 'ans_1' in dataframe.columns:\n",
        "        x.drop(columns=['ans_1'], inplace=True)\n",
        "\n",
        "    x_train, x_test, y_train, y_test = train_test_split(x, y, test_size=0.33, random_state=45)\n",
        "    return x, y, x_train, x_test, y_train, y_test"
      ],
      "execution_count": 0,
      "outputs": []
    },
    {
      "cell_type": "code",
      "metadata": {
        "id": "5OCArhMNI0KC",
        "colab_type": "code",
        "colab": {}
      },
      "source": [
        "def plot_ans(dataframe):\n",
        "    fig, axis = plt.subplots(2,4,figsize=(30,16))\n",
        "    for i in range(8):\n",
        "        if i % 2 == 0:\n",
        "            k = 1\n",
        "            j = i//2\n",
        "        else:\n",
        "            k = 0\n",
        "            j = (i - 1)//2\n",
        "            \n",
        "        sns.boxenplot(x='ans_0', y='ans_{}'.format(i+2), data=dataframe, ax=axis[k, j])\n",
        "        axis[k,j].set_title(oldcols[i+2][:17])\n",
        "        axis[k,j].set_ylim(1,5)\n",
        "        axis[k,j].set_xticklabels(['Inglesi', 'Italiani'], fontsize=14)\n",
        "        axis[k,j].set_yticks(range(1,6))\n",
        "        axis[k,j].set_xlabel('Nazionalità')\n",
        "        axis[k,j].set_ylabel('Level of Offence')\n",
        "        axis[k,j].tick_params(bottom=False, left=False)\n",
        "        sns.despine(left=True, bottom=True)"
      ],
      "execution_count": 0,
      "outputs": []
    },
    {
      "cell_type": "markdown",
      "metadata": {
        "id": "cF-umVdOI0Ke",
        "colab_type": "text"
      },
      "source": [
        "## Anova"
      ]
    },
    {
      "cell_type": "code",
      "metadata": {
        "id": "Cz3eDap_I0Kf",
        "colab_type": "code",
        "colab": {}
      },
      "source": [
        "def anova(dataframe):\n",
        "    italians = dataframe.loc[dataframe['ans_0'] == 1].drop(columns=['ans_0', 'ans_1']).mean(axis=1)\n",
        "    english = dataframe.loc[dataframe['ans_0'] == 0].drop(columns=['ans_0', 'ans_1']).sample(len(italians)).mean(axis=1)\n",
        "    return stats.f_oneway(italians, english)"
      ],
      "execution_count": 0,
      "outputs": []
    },
    {
      "cell_type": "markdown",
      "metadata": {
        "id": "C5MsNsvyI0Kp",
        "colab_type": "text"
      },
      "source": [
        "## Logistic Regression"
      ]
    },
    {
      "cell_type": "code",
      "metadata": {
        "id": "6WJm1576I0Kr",
        "colab_type": "code",
        "colab": {}
      },
      "source": [
        "def logmodel(x_train, y_train, x_test, y_test):\n",
        "    lr = LogisticRegression( solver='lbfgs', multi_class='auto')\n",
        "    lr.fit(x_train, y_train)\n",
        "\n",
        "    predictions = lr.predict(x_test)\n",
        "    return (accuracy_score(y_test, predictions), confusion_matrix(y_test, predictions))"
      ],
      "execution_count": 0,
      "outputs": []
    },
    {
      "cell_type": "markdown",
      "metadata": {
        "id": "_QCCy924I0LN",
        "colab_type": "text"
      },
      "source": [
        "## K-Nearest Neighbours"
      ]
    },
    {
      "cell_type": "code",
      "metadata": {
        "id": "HTPHupbCI0LR",
        "colab_type": "code",
        "colab": {}
      },
      "source": [
        "def knnmodel(x_train, y_train, x_test, y_test):\n",
        "    neigh = RadiusNeighborsClassifier(radius=3.0)\n",
        "    neigh.fit(x_train, y_train)\n",
        "    results = neigh.predict(x_test)\n",
        "    return (accuracy_score(y_test, results),confusion_matrix(y_test, results))"
      ],
      "execution_count": 0,
      "outputs": []
    },
    {
      "cell_type": "markdown",
      "metadata": {
        "id": "Si506FJ5JSp-",
        "colab_type": "text"
      },
      "source": [
        "## Neural Net"
      ]
    },
    {
      "cell_type": "code",
      "metadata": {
        "id": "utO2J804KINy",
        "colab_type": "code",
        "colab": {}
      },
      "source": [
        "def create_model():\n",
        "    input_layer = layers.Input(shape=(40))\n",
        "\n",
        "    x = layers.Dense(16, kernel_regularizer=regularizers.l2(0.0001),\n",
        "                    activation='relu')(input_layer)\n",
        "    x = layers.Dropout(0.5)(x)\n",
        "\n",
        "    x = layers.Dense(16, kernel_regularizer=regularizers.l2(0.0001),\n",
        "                    activation='relu')(x)\n",
        "    x = layers.Dropout(0.5)(x)\n",
        "\n",
        "    x = layers.Dense(16, kernel_regularizer=regularizers.l2(0.0001),\n",
        "                    activation='relu')(x)\n",
        "    x = layers.Dropout(0.5)(x)\n",
        "\n",
        "    x = layers.Dense(16, kernel_regularizer=regularizers.l2(0.0001),\n",
        "                    activation='relu')(x)\n",
        "    x = layers.Dropout(0.5)(x)\n",
        "\n",
        "    x = layers.Dense(8, kernel_regularizer=regularizers.l2(0.0001),\n",
        "                    activation='relu')(x)\n",
        "    x = layers.Dropout(0.5)(x)\n",
        "\n",
        "    output = layers.Dense(1, activation='sigmoid')(x)\n",
        "\n",
        "    model = Model(input_layer, output)\n",
        "\n",
        "\n",
        "    model.compile(loss='binary_crossentropy',\n",
        "              optimizer=('adam'),\n",
        "              metrics=['acc']) \n",
        "    return model"
      ],
      "execution_count": 0,
      "outputs": []
    },
    {
      "cell_type": "code",
      "metadata": {
        "id": "THxm-999K-GB",
        "colab_type": "code",
        "colab": {}
      },
      "source": [
        "def train_and_eval(model, xtrain, ytrain, xtest, ytest, islast=False):\n",
        "    model.fit(\n",
        "            x = xtrain,\n",
        "            steps_per_epoch=100,  \n",
        "            epochs=20,\n",
        "            y=ytrain,\n",
        "            verbose=0)\n",
        "    return model.evaluate(xtest, ytest)\n",
        "\n",
        "\n",
        "def evaluate_model(model, x,y):\n",
        "    hist = model.fit(\n",
        "                    x = x,\n",
        "                    steps_per_epoch=99,  \n",
        "                    epochs=100,\n",
        "                    y=y,\n",
        "                    validation_split=0.3,\n",
        "                    validation_steps=33)\n",
        "    return hist\n"
      ],
      "execution_count": 0,
      "outputs": []
    },
    {
      "cell_type": "code",
      "metadata": {
        "id": "ZHMrUxtepxLo",
        "colab_type": "code",
        "colab": {}
      },
      "source": [
        "def plot_model(history):\n",
        "    # Retrieve a list of accuracy results on training and validation data\n",
        "    # sets for each training epoch\n",
        "    acc = history.history['acc']\n",
        "    val_acc = history.history['val_acc']\n",
        "\n",
        "    # Retrieve a list of list results on training and validation data\n",
        "    # sets for each training epoch\n",
        "    loss = history.history['loss']\n",
        "    val_loss = history.history['val_loss']\n",
        "\n",
        "    # Get number of epochs\n",
        "    epochs = range(len(acc))\n",
        "\n",
        "    # Plot training and validation accuracy per epoch\n",
        "    plt.plot(epochs, acc)\n",
        "    plt.plot(epochs, val_acc)\n",
        "    plt.title('Training and validation accuracy')\n",
        "\n",
        "    plt.figure()\n",
        "\n",
        "    # Plot training and validation loss per epoch\n",
        "    plt.plot(epochs, loss)\n",
        "    plt.plot(epochs, val_loss)\n",
        "    plt.title('Training and validation loss')"
      ],
      "execution_count": 0,
      "outputs": []
    },
    {
      "cell_type": "code",
      "metadata": {
        "id": "ZqZSc1RrQ6PJ",
        "colab_type": "code",
        "colab": {}
      },
      "source": [
        "def run_model():\n",
        "        n_folds = 2\n",
        "        data = load_data()\n",
        "        dummy_df = dummy(data)\n",
        "        x, y, _, _, _, _ = split_df(dummy_df)\n",
        "        skf = StratifiedKFold(n_folds, shuffle=True)\n",
        "        mean_score = []\n",
        "        for train, test in skf.split(x,y):\n",
        "                model = None # Clearing the NN.\n",
        "                model = create_model()\n",
        "                results = train_and_eval(model, \n",
        "                                            x.loc[train].dropna(), \n",
        "                                            y.loc[train].dropna(), \n",
        "                                            x.loc[test].dropna(), \n",
        "                                            y.loc[test].dropna())\n",
        "                print(results)\n",
        "                mean_score.append(results[1])\n",
        "        print(\"Mean accuracy: \", np.mean(mean_score))\n",
        "        model = None # Clearing the NN.\n",
        "        model = create_model()\n",
        "        histor = evaluate_model(model, x, y)\n",
        "        plot_model(histor)"
      ],
      "execution_count": 0,
      "outputs": []
    },
    {
      "cell_type": "code",
      "metadata": {
        "id": "05frtKiek4o1",
        "colab_type": "code",
        "outputId": "2bd1cccb-7c72-41d7-e8cf-b4a4176bbfb1",
        "colab": {
          "base_uri": "https://localhost:8080/",
          "height": 1000
        }
      },
      "source": [
        "run_model()"
      ],
      "execution_count": 0,
      "outputs": [
        {
          "output_type": "stream",
          "text": [
            "/usr/local/lib/python3.6/dist-packages/ipykernel_launcher.py:12: FutureWarning: \n",
            "Passing list-likes to .loc or [] with any missing label will raise\n",
            "KeyError in the future, you can use .reindex() as an alternative.\n",
            "\n",
            "See the documentation here:\n",
            "https://pandas.pydata.org/pandas-docs/stable/user_guide/indexing.html#deprecate-loc-reindex-listlike\n",
            "  if sys.path[0] == '':\n",
            "/usr/local/lib/python3.6/dist-packages/ipykernel_launcher.py:13: FutureWarning: \n",
            "Passing list-likes to .loc or [] with any missing label will raise\n",
            "KeyError in the future, you can use .reindex() as an alternative.\n",
            "\n",
            "See the documentation here:\n",
            "https://pandas.pydata.org/pandas-docs/stable/user_guide/indexing.html#deprecate-loc-reindex-listlike\n",
            "  del sys.path[0]\n",
            "/usr/local/lib/python3.6/dist-packages/ipykernel_launcher.py:14: FutureWarning: \n",
            "Passing list-likes to .loc or [] with any missing label will raise\n",
            "KeyError in the future, you can use .reindex() as an alternative.\n",
            "\n",
            "See the documentation here:\n",
            "https://pandas.pydata.org/pandas-docs/stable/user_guide/indexing.html#deprecate-loc-reindex-listlike\n",
            "  \n",
            "/usr/local/lib/python3.6/dist-packages/ipykernel_launcher.py:15: FutureWarning: \n",
            "Passing list-likes to .loc or [] with any missing label will raise\n",
            "KeyError in the future, you can use .reindex() as an alternative.\n",
            "\n",
            "See the documentation here:\n",
            "https://pandas.pydata.org/pandas-docs/stable/user_guide/indexing.html#deprecate-loc-reindex-listlike\n",
            "  from ipykernel import kernelapp as app\n"
          ],
          "name": "stderr"
        },
        {
          "output_type": "stream",
          "text": [
            "69/69 [==============================] - 0s 4ms/sample - loss: 8.7244 - acc: 0.7826\n",
            "[8.724436071039975, 0.7826087]\n",
            "73/73 [==============================] - 0s 4ms/sample - loss: 11.3838 - acc: 0.7808\n",
            "[11.383778505129357, 0.7808219]\n",
            "Mean accuracy:  0.7817153\n",
            "Train on 99 samples, validate on 96 samples\n",
            "Epoch 1/100\n",
            "99/99 [==============================] - 2s 17ms/step - loss: 0.6519 - acc: 0.7020 - val_loss: 0.9601 - val_acc: 0.0000e+00\n",
            "Epoch 2/100\n",
            "99/99 [==============================] - 0s 5ms/step - loss: 0.6157 - acc: 0.7128 - val_loss: 1.0570 - val_acc: 0.0000e+00\n",
            "Epoch 3/100\n",
            "99/99 [==============================] - 0s 5ms/step - loss: 0.5927 - acc: 0.7141 - val_loss: 1.0565 - val_acc: 0.0000e+00\n",
            "Epoch 4/100\n",
            "99/99 [==============================] - 0s 5ms/step - loss: 0.5616 - acc: 0.7142 - val_loss: 1.1281 - val_acc: 0.0000e+00\n",
            "Epoch 5/100\n",
            "99/99 [==============================] - 0s 5ms/step - loss: 0.5204 - acc: 0.7143 - val_loss: 1.4477 - val_acc: 0.0000e+00\n",
            "Epoch 6/100\n",
            "99/99 [==============================] - 0s 5ms/step - loss: 0.4515 - acc: 0.7142 - val_loss: 2.9169 - val_acc: 0.0000e+00\n",
            "Epoch 7/100\n",
            "99/99 [==============================] - 0s 5ms/step - loss: 0.3856 - acc: 0.7142 - val_loss: 6.8552 - val_acc: 0.0000e+00\n",
            "Epoch 8/100\n",
            "99/99 [==============================] - 0s 5ms/step - loss: 0.3233 - acc: 0.7828 - val_loss: 14.7110 - val_acc: 0.1875\n",
            "Epoch 9/100\n",
            "99/99 [==============================] - 0s 5ms/step - loss: 0.2801 - acc: 0.9028 - val_loss: 24.9221 - val_acc: 0.1458\n",
            "Epoch 10/100\n",
            "99/99 [==============================] - 0s 5ms/step - loss: 0.2563 - acc: 0.9126 - val_loss: 35.2085 - val_acc: 0.1458\n",
            "Epoch 11/100\n",
            "99/99 [==============================] - 0s 5ms/step - loss: 0.2412 - acc: 0.9164 - val_loss: 44.4764 - val_acc: 0.1146\n",
            "Epoch 12/100\n",
            "99/99 [==============================] - 0s 5ms/step - loss: 0.2288 - acc: 0.9210 - val_loss: 52.6354 - val_acc: 0.1042\n",
            "Epoch 13/100\n",
            "99/99 [==============================] - 0s 5ms/step - loss: 0.2215 - acc: 0.9212 - val_loss: 60.4765 - val_acc: 0.1042\n",
            "Epoch 14/100\n",
            "99/99 [==============================] - 0s 5ms/step - loss: 0.2140 - acc: 0.9241 - val_loss: 67.7786 - val_acc: 0.1042\n",
            "Epoch 15/100\n",
            "99/99 [==============================] - 0s 5ms/step - loss: 0.2104 - acc: 0.9231 - val_loss: 72.5897 - val_acc: 0.1042\n",
            "Epoch 16/100\n",
            "99/99 [==============================] - 0s 5ms/step - loss: 0.2091 - acc: 0.9223 - val_loss: 81.2491 - val_acc: 0.0938\n",
            "Epoch 17/100\n",
            "99/99 [==============================] - 0s 5ms/step - loss: 0.2059 - acc: 0.9228 - val_loss: 86.6824 - val_acc: 0.0938\n",
            "Epoch 18/100\n",
            "99/99 [==============================] - 0s 5ms/step - loss: 0.2003 - acc: 0.9261 - val_loss: 87.6821 - val_acc: 0.0938\n",
            "Epoch 19/100\n",
            "99/99 [==============================] - 0s 5ms/step - loss: 0.2001 - acc: 0.9251 - val_loss: 95.9368 - val_acc: 0.0938\n",
            "Epoch 20/100\n",
            "99/99 [==============================] - 0s 5ms/step - loss: 0.1991 - acc: 0.9248 - val_loss: 103.2573 - val_acc: 0.1042\n",
            "Epoch 21/100\n",
            "99/99 [==============================] - 0s 5ms/step - loss: 0.1988 - acc: 0.9240 - val_loss: 108.8377 - val_acc: 0.1042\n",
            "Epoch 22/100\n",
            "99/99 [==============================] - 0s 5ms/step - loss: 0.1986 - acc: 0.9237 - val_loss: 107.0902 - val_acc: 0.0729\n",
            "Epoch 23/100\n",
            "99/99 [==============================] - 1s 5ms/step - loss: 0.1969 - acc: 0.9247 - val_loss: 114.5025 - val_acc: 0.0729\n",
            "Epoch 24/100\n",
            "99/99 [==============================] - 0s 5ms/step - loss: 0.1958 - acc: 0.9251 - val_loss: 118.5288 - val_acc: 0.0833\n",
            "Epoch 25/100\n",
            "99/99 [==============================] - 0s 5ms/step - loss: 0.1939 - acc: 0.9261 - val_loss: 118.2109 - val_acc: 0.0938\n",
            "Epoch 26/100\n",
            "99/99 [==============================] - 0s 5ms/step - loss: 0.1914 - acc: 0.9275 - val_loss: 119.7455 - val_acc: 0.0938\n",
            "Epoch 27/100\n",
            "99/99 [==============================] - 0s 5ms/step - loss: 0.1899 - acc: 0.9283 - val_loss: 124.0526 - val_acc: 0.0833\n",
            "Epoch 28/100\n",
            "99/99 [==============================] - 0s 5ms/step - loss: 0.1934 - acc: 0.9257 - val_loss: 123.5766 - val_acc: 0.0938\n",
            "Epoch 29/100\n",
            "99/99 [==============================] - 0s 5ms/step - loss: 0.1884 - acc: 0.9288 - val_loss: 123.5562 - val_acc: 0.0938\n",
            "Epoch 30/100\n",
            "99/99 [==============================] - 0s 5ms/step - loss: 0.1858 - acc: 0.9305 - val_loss: 122.9213 - val_acc: 0.0938\n",
            "Epoch 31/100\n",
            "99/99 [==============================] - 0s 5ms/step - loss: 0.1860 - acc: 0.9299 - val_loss: 127.0291 - val_acc: 0.0833\n",
            "Epoch 32/100\n",
            "99/99 [==============================] - 0s 5ms/step - loss: 0.1841 - acc: 0.9312 - val_loss: 121.8934 - val_acc: 0.1042\n",
            "Epoch 33/100\n",
            "99/99 [==============================] - 0s 5ms/step - loss: 0.1862 - acc: 0.9296 - val_loss: 123.2997 - val_acc: 0.0833\n",
            "Epoch 34/100\n",
            "99/99 [==============================] - 0s 5ms/step - loss: 0.1863 - acc: 0.9296 - val_loss: 120.7881 - val_acc: 0.0938\n",
            "Epoch 35/100\n",
            "99/99 [==============================] - 0s 5ms/step - loss: 0.1827 - acc: 0.9319 - val_loss: 123.2456 - val_acc: 0.0833\n",
            "Epoch 36/100\n",
            "99/99 [==============================] - 0s 5ms/step - loss: 0.1805 - acc: 0.9330 - val_loss: 123.9831 - val_acc: 0.0833\n",
            "Epoch 37/100\n",
            "99/99 [==============================] - 0s 5ms/step - loss: 0.1783 - acc: 0.9343 - val_loss: 125.8713 - val_acc: 0.0833\n",
            "Epoch 38/100\n",
            "99/99 [==============================] - 0s 5ms/step - loss: 0.1794 - acc: 0.9334 - val_loss: 127.6059 - val_acc: 0.0729\n",
            "Epoch 39/100\n",
            "99/99 [==============================] - 0s 5ms/step - loss: 0.1776 - acc: 0.9344 - val_loss: 127.5697 - val_acc: 0.0729\n",
            "Epoch 40/100\n",
            "99/99 [==============================] - 0s 5ms/step - loss: 0.1791 - acc: 0.9334 - val_loss: 125.7380 - val_acc: 0.0729\n",
            "Epoch 41/100\n",
            "99/99 [==============================] - 0s 5ms/step - loss: 0.1768 - acc: 0.9347 - val_loss: 127.6652 - val_acc: 0.0833\n",
            "Epoch 42/100\n",
            "99/99 [==============================] - 0s 5ms/step - loss: 0.1772 - acc: 0.9344 - val_loss: 123.4845 - val_acc: 0.0833\n",
            "Epoch 43/100\n",
            "99/99 [==============================] - 0s 5ms/step - loss: 0.1778 - acc: 0.9341 - val_loss: 126.0754 - val_acc: 0.0833\n",
            "Epoch 44/100\n",
            "99/99 [==============================] - 0s 5ms/step - loss: 0.1779 - acc: 0.9339 - val_loss: 126.6110 - val_acc: 0.0729\n",
            "Epoch 45/100\n",
            "99/99 [==============================] - 0s 5ms/step - loss: 0.1811 - acc: 0.9321 - val_loss: 124.4103 - val_acc: 0.0729\n",
            "Epoch 46/100\n",
            "99/99 [==============================] - 0s 5ms/step - loss: 0.1800 - acc: 0.9325 - val_loss: 119.4310 - val_acc: 0.0833\n",
            "Epoch 47/100\n",
            "99/99 [==============================] - 0s 5ms/step - loss: 0.1795 - acc: 0.9327 - val_loss: 111.3385 - val_acc: 0.0833\n",
            "Epoch 48/100\n",
            "99/99 [==============================] - 0s 5ms/step - loss: 0.1805 - acc: 0.9322 - val_loss: 120.6920 - val_acc: 0.0729\n",
            "Epoch 49/100\n",
            "99/99 [==============================] - 0s 5ms/step - loss: 0.1775 - acc: 0.9340 - val_loss: 115.6736 - val_acc: 0.0729\n",
            "Epoch 50/100\n",
            "99/99 [==============================] - 0s 5ms/step - loss: 0.1750 - acc: 0.9354 - val_loss: 124.4364 - val_acc: 0.0729\n",
            "Epoch 51/100\n",
            "99/99 [==============================] - 0s 5ms/step - loss: 0.1740 - acc: 0.9360 - val_loss: 121.7863 - val_acc: 0.0833\n",
            "Epoch 52/100\n",
            "99/99 [==============================] - 0s 5ms/step - loss: 0.1760 - acc: 0.9346 - val_loss: 118.4047 - val_acc: 0.1042\n",
            "Epoch 53/100\n",
            "99/99 [==============================] - 0s 5ms/step - loss: 0.1763 - acc: 0.9346 - val_loss: 122.2907 - val_acc: 0.0729\n",
            "Epoch 54/100\n",
            "99/99 [==============================] - 0s 5ms/step - loss: 0.1770 - acc: 0.9339 - val_loss: 115.5807 - val_acc: 0.0729\n",
            "Epoch 55/100\n",
            "99/99 [==============================] - 0s 5ms/step - loss: 0.1743 - acc: 0.9357 - val_loss: 108.9017 - val_acc: 0.1146\n",
            "Epoch 56/100\n",
            "99/99 [==============================] - 0s 5ms/step - loss: 0.1755 - acc: 0.9352 - val_loss: 118.2223 - val_acc: 0.0833\n",
            "Epoch 57/100\n",
            "99/99 [==============================] - 0s 5ms/step - loss: 0.1746 - acc: 0.9355 - val_loss: 122.2867 - val_acc: 0.1042\n",
            "Epoch 58/100\n",
            "99/99 [==============================] - 0s 5ms/step - loss: 0.1740 - acc: 0.9356 - val_loss: 120.0971 - val_acc: 0.1042\n",
            "Epoch 59/100\n",
            "99/99 [==============================] - 0s 4ms/step - loss: 0.1745 - acc: 0.9353 - val_loss: 113.2072 - val_acc: 0.1042\n",
            "Epoch 60/100\n",
            "99/99 [==============================] - 0s 5ms/step - loss: 0.1716 - acc: 0.9368 - val_loss: 109.5719 - val_acc: 0.0833\n",
            "Epoch 61/100\n",
            "99/99 [==============================] - 0s 5ms/step - loss: 0.1695 - acc: 0.9382 - val_loss: 103.8427 - val_acc: 0.0938\n",
            "Epoch 62/100\n",
            "99/99 [==============================] - 0s 5ms/step - loss: 0.1716 - acc: 0.9369 - val_loss: 104.8868 - val_acc: 0.0938\n",
            "Epoch 63/100\n",
            "99/99 [==============================] - 0s 5ms/step - loss: 0.1682 - acc: 0.9392 - val_loss: 110.3198 - val_acc: 0.1042\n",
            "Epoch 64/100\n",
            "99/99 [==============================] - 0s 5ms/step - loss: 0.1625 - acc: 0.9423 - val_loss: 122.2240 - val_acc: 0.0833\n",
            "Epoch 65/100\n",
            "99/99 [==============================] - 0s 4ms/step - loss: 0.1603 - acc: 0.9433 - val_loss: 118.2378 - val_acc: 0.0729\n",
            "Epoch 66/100\n",
            "99/99 [==============================] - 0s 5ms/step - loss: 0.1588 - acc: 0.9442 - val_loss: 119.9906 - val_acc: 0.0729\n",
            "Epoch 67/100\n",
            "99/99 [==============================] - 0s 5ms/step - loss: 0.1611 - acc: 0.9429 - val_loss: 123.2406 - val_acc: 0.0833\n",
            "Epoch 68/100\n",
            "99/99 [==============================] - 0s 5ms/step - loss: 0.1622 - acc: 0.9426 - val_loss: 124.6832 - val_acc: 0.0833\n",
            "Epoch 69/100\n",
            "99/99 [==============================] - 0s 5ms/step - loss: 0.1604 - acc: 0.9432 - val_loss: 122.2187 - val_acc: 0.0833\n",
            "Epoch 70/100\n",
            "99/99 [==============================] - 0s 5ms/step - loss: 0.1621 - acc: 0.9423 - val_loss: 119.9081 - val_acc: 0.0833\n",
            "Epoch 71/100\n",
            "99/99 [==============================] - 0s 5ms/step - loss: 0.1602 - acc: 0.9432 - val_loss: 113.0573 - val_acc: 0.0833\n",
            "Epoch 72/100\n",
            "99/99 [==============================] - 0s 5ms/step - loss: 0.1612 - acc: 0.9426 - val_loss: 115.3818 - val_acc: 0.0833\n",
            "Epoch 73/100\n",
            "99/99 [==============================] - 0s 5ms/step - loss: 0.1594 - acc: 0.9437 - val_loss: 110.8928 - val_acc: 0.0938\n",
            "Epoch 74/100\n",
            "99/99 [==============================] - 0s 5ms/step - loss: 0.1572 - acc: 0.9448 - val_loss: 115.8806 - val_acc: 0.0938\n",
            "Epoch 75/100\n",
            "99/99 [==============================] - 0s 5ms/step - loss: 0.1556 - acc: 0.9456 - val_loss: 116.6690 - val_acc: 0.0833\n",
            "Epoch 76/100\n",
            "99/99 [==============================] - 0s 5ms/step - loss: 0.1519 - acc: 0.9477 - val_loss: 119.3198 - val_acc: 0.0833\n",
            "Epoch 77/100\n",
            "99/99 [==============================] - 0s 5ms/step - loss: 0.1566 - acc: 0.9450 - val_loss: 115.3701 - val_acc: 0.0833\n",
            "Epoch 78/100\n",
            "99/99 [==============================] - 0s 5ms/step - loss: 0.1526 - acc: 0.9472 - val_loss: 118.5227 - val_acc: 0.0833\n",
            "Epoch 79/100\n",
            "99/99 [==============================] - 0s 5ms/step - loss: 0.1604 - acc: 0.9430 - val_loss: 118.2163 - val_acc: 0.0833\n",
            "Epoch 80/100\n",
            "99/99 [==============================] - 0s 5ms/step - loss: 0.1544 - acc: 0.9463 - val_loss: 121.2837 - val_acc: 0.0833\n",
            "Epoch 81/100\n",
            "99/99 [==============================] - 0s 5ms/step - loss: 0.1553 - acc: 0.9458 - val_loss: 128.4990 - val_acc: 0.0833\n",
            "Epoch 82/100\n",
            "99/99 [==============================] - 0s 5ms/step - loss: 0.1543 - acc: 0.9461 - val_loss: 119.2852 - val_acc: 0.0833\n",
            "Epoch 83/100\n",
            "99/99 [==============================] - 0s 5ms/step - loss: 0.1520 - acc: 0.9476 - val_loss: 124.0630 - val_acc: 0.0938\n",
            "Epoch 84/100\n",
            "99/99 [==============================] - 0s 5ms/step - loss: 0.1500 - acc: 0.9486 - val_loss: 122.0444 - val_acc: 0.0938\n",
            "Epoch 85/100\n",
            "99/99 [==============================] - 0s 5ms/step - loss: 0.1548 - acc: 0.9462 - val_loss: 125.6400 - val_acc: 0.1458\n",
            "Epoch 86/100\n",
            "99/99 [==============================] - 0s 5ms/step - loss: 0.1550 - acc: 0.9461 - val_loss: 141.4983 - val_acc: 0.1146\n",
            "Epoch 87/100\n",
            "99/99 [==============================] - 0s 5ms/step - loss: 0.1550 - acc: 0.9461 - val_loss: 147.3301 - val_acc: 0.1146\n",
            "Epoch 88/100\n",
            "99/99 [==============================] - 0s 5ms/step - loss: 0.1592 - acc: 0.9437 - val_loss: 138.5774 - val_acc: 0.1146\n",
            "Epoch 89/100\n",
            "99/99 [==============================] - 0s 5ms/step - loss: 0.1531 - acc: 0.9479 - val_loss: 127.6364 - val_acc: 0.1146\n",
            "Epoch 90/100\n",
            "99/99 [==============================] - 0s 5ms/step - loss: 0.1634 - acc: 0.9415 - val_loss: 136.5050 - val_acc: 0.1042\n",
            "Epoch 91/100\n",
            "99/99 [==============================] - 0s 5ms/step - loss: 0.1524 - acc: 0.9472 - val_loss: 134.7854 - val_acc: 0.1042\n",
            "Epoch 92/100\n",
            "99/99 [==============================] - 0s 5ms/step - loss: 0.1524 - acc: 0.9474 - val_loss: 144.8365 - val_acc: 0.1042\n",
            "Epoch 93/100\n",
            "99/99 [==============================] - 0s 5ms/step - loss: 0.1525 - acc: 0.9472 - val_loss: 138.2984 - val_acc: 0.0938\n",
            "Epoch 94/100\n",
            "99/99 [==============================] - 0s 5ms/step - loss: 0.1548 - acc: 0.9461 - val_loss: 123.5764 - val_acc: 0.0938\n",
            "Epoch 95/100\n",
            "99/99 [==============================] - 0s 5ms/step - loss: 0.1552 - acc: 0.9457 - val_loss: 120.3938 - val_acc: 0.0833\n",
            "Epoch 96/100\n",
            "99/99 [==============================] - 0s 5ms/step - loss: 0.1546 - acc: 0.9461 - val_loss: 124.6977 - val_acc: 0.0938\n",
            "Epoch 97/100\n",
            "99/99 [==============================] - 0s 5ms/step - loss: 0.1544 - acc: 0.9461 - val_loss: 129.4782 - val_acc: 0.0938\n",
            "Epoch 98/100\n",
            "99/99 [==============================] - 0s 5ms/step - loss: 0.1534 - acc: 0.9467 - val_loss: 138.5307 - val_acc: 0.0833\n",
            "Epoch 99/100\n",
            "99/99 [==============================] - 0s 5ms/step - loss: 0.1556 - acc: 0.9456 - val_loss: 128.3461 - val_acc: 0.1146\n",
            "Epoch 100/100\n",
            "99/99 [==============================] - 0s 5ms/step - loss: 0.1493 - acc: 0.9489 - val_loss: 137.8792 - val_acc: 0.0938\n"
          ],
          "name": "stdout"
        },
        {
          "output_type": "display_data",
          "data": {
            "image/png": "[encoded data removed]",
            "text/plain": [
              "<Figure size 432x288 with 1 Axes>"
            ]
          },
          "metadata": {
            "tags": []
          }
        },
        {
          "output_type": "display_data",
          "data": {
            "image/png": "[encoded data removed]",
            "text/plain": [
              "<Figure size 432x288 with 1 Axes>"
            ]
          },
          "metadata": {
            "tags": []
          }
        }
      ]
    }
  ]
}